{
 "cells": [
  {
   "cell_type": "markdown",
   "id": "6ce55a90",
   "metadata": {},
   "source": [
    "# Лекция 9"
   ]
  },
  {
   "cell_type": "markdown",
   "id": "f4596cf8",
   "metadata": {},
   "source": [
    "## Машинное обучение"
   ]
  },
  {
   "cell_type": "markdown",
   "id": "a3d6a25b",
   "metadata": {},
   "source": [
    "### ML решает следующую задачу\n",
    "### Требуется подогнать заданный набор точек данными под соответствующую функцию (отображение входа на выход), которая улавливает важные сигналы в данных и игнорирует помехи, а затем убедиться, что на новых данных функция работает хорошо."
   ]
  },
  {
   "cell_type": "markdown",
   "id": "9e9d855e",
   "metadata": {},
   "source": [
    "## Обучение с учителем (supervised learning)\n",
    "## Обучение без учителя (unsupervised learning)"
   ]
  },
  {
   "cell_type": "markdown",
   "id": "c0397972",
   "metadata": {},
   "source": [
    "### ОчУ - моделирует отношение между признаками и метками. Также модели служат для предсказания меток на основе маркированных обучающих данных. После построения модели можно использовать её для присвоения меток новым ранее неизвестным данным."
   ]
  },
  {
   "cell_type": "markdown",
   "id": "226cc293",
   "metadata": {},
   "source": [
    "#### - задачи классификации (метки - дискретные: два и более)\n",
    "#### - задачи регрессии (метки/результат; непрерывные величины)"
   ]
  },
  {
   "cell_type": "markdown",
   "id": "f962eb58",
   "metadata": {},
   "source": [
    "### ОбУ - моделирование признаков без меток. Также модели служат для выявления структуры немаркированных данных."
   ]
  },
  {
   "cell_type": "markdown",
   "id": "795a40a4",
   "metadata": {},
   "source": [
    "#### - задача кластеризации (выделяет отдельные группы данных)\n",
    "#### - понижения размерности (поиск более сжатого представления данных)"
   ]
  },
  {
   "cell_type": "markdown",
   "id": "012920f8",
   "metadata": {},
   "source": [
    "## Существуют методы частичного обучения (semi-supervised learning). Не все данные промаркированы.\n",
    "## Методы обучения с подкреплением (reinforcement learning). Система обучения улучшает свои характеристики на основе взаимодействия (обратной связи) со средой. При этом взаимодействии система получает сигналы (функции наград), которые несут в себе информацию, несколько хорошо/плохо система решила задачу (с точки зрения среды). Итоговая награда не станет максимальной."
   ]
  },
  {
   "cell_type": "code",
   "execution_count": 1,
   "id": "37e92a28",
   "metadata": {},
   "outputs": [],
   "source": [
    "import seaborn as sns"
   ]
  },
  {
   "cell_type": "code",
   "execution_count": 8,
   "id": "2cf78f0b",
   "metadata": {},
   "outputs": [
    {
     "name": "stdout",
     "output_type": "stream",
     "text": [
      "   sepal_length  sepal_width  petal_length  petal_width species\n",
      "0           5.1          3.5           1.4          0.2  setosa\n",
      "1           4.9          3.0           1.4          0.2  setosa\n",
      "2           4.7          3.2           1.3          0.2  setosa\n",
      "3           4.6          3.1           1.5          0.2  setosa\n",
      "4           5.0          3.6           1.4          0.2  setosa\n",
      "<class 'pandas.core.frame.DataFrame'>\n",
      "<class 'numpy.ndarray'>\n",
      "(150, 5)\n",
      "Index(['sepal_length', 'sepal_width', 'petal_length', 'petal_width',\n",
      "       'species'],\n",
      "      dtype='object')\n",
      "RangeIndex(start=0, stop=150, step=1)\n"
     ]
    }
   ],
   "source": [
    "iris = sns.load_dataset(\"iris\")\n",
    "print(iris.head())\n",
    "print(type(iris))\n",
    "print(type(iris.values))\n",
    "print(iris.values.shape)\n",
    "print(iris.columns)\n",
    "print(iris.index)"
   ]
  },
  {
   "cell_type": "markdown",
   "id": "aae52706",
   "metadata": {},
   "source": [
    "### Строки - отдельные объекты - образцы (samples)\n",
    "### Столбцы - признаки (features) - соответствуют конкретным наблюдениям\n",
    "### Матрицы признаков (features matrix) размер [число образцов x число признаков]\n",
    "### Целевой массив, массив меток (targets) - одномерный массив [1 x число образцов] - данные, которые мы хотим предсказать на основе имеющихся данных\n",
    "### Зависимые (метка) и независимые переменные (признаки)"
   ]
  },
  {
   "cell_type": "markdown",
   "id": "fa7cb816",
   "metadata": {},
   "source": [
    "## Процесс построения системы машинного обучения:\n",
    "\n",
    "### 1. Предварительная обработка\n",
    "#### - На вход поступает необработанные данные и метки\n",
    "#### - Происходит выбор признаков, масштабирование признаков\n",
    "#### - Понижение размерности\n",
    "#### - Выборка образцов\n",
    "#### - На выход набор данных: обучающий, тестовый\n",
    "\n",
    "### 2. Обучение\n",
    "#### - Выбор модели\n",
    "#### - Перекрёстная проверка\n",
    "#### - Метрики эффективности\n",
    "#### - Оптимизация гиперпараметров, которые получаются не из данных, а являются характеристиками модели\n",
    "\n",
    "### 3. Оценка и формирование финальной модели\n",
    "\n",
    "### 4. Прогнозирование (использование модели)\n"
   ]
  },
  {
   "cell_type": "markdown",
   "id": "150e6bf4",
   "metadata": {},
   "source": [
    "## Scikit-learn\n",
    "\n",
    "### 1. Выбираем класс модели\n",
    "### 2. Устанавливаем гиперпараметры модели\n",
    "### 3. Создаём матрицу признаков и целевой массив\n",
    "### 4. Обучение модели fit()\n",
    "### 5. Применять модели к новым данным\n",
    "#### - predict() (с учителем)\n",
    "#### - predict() или transform() (без учителя)"
   ]
  },
  {
   "cell_type": "markdown",
   "id": "a9d92318",
   "metadata": {},
   "source": [
    "## Обучение с учителем: Линейная регрессия"
   ]
  },
  {
   "cell_type": "markdown",
   "id": "4e0b3fe8",
   "metadata": {},
   "source": [
    "## y = ax + b"
   ]
  },
  {
   "cell_type": "code",
   "execution_count": 10,
   "id": "fb0f437d",
   "metadata": {},
   "outputs": [],
   "source": [
    "import matplotlib.pyplot as plt\n",
    "import numpy as np"
   ]
  },
  {
   "cell_type": "code",
   "execution_count": 34,
   "id": "bf02099d",
   "metadata": {},
   "outputs": [
    {
     "data": {
      "text/plain": [
       "<matplotlib.collections.PathCollection at 0x1f66f0bf3e0>"
      ]
     },
     "execution_count": 34,
     "metadata": {},
     "output_type": "execute_result"
    },
    {
     "data": {
      "image/png": "[encoded data removed]",
      "text/plain": [
       "<Figure size 640x480 with 1 Axes>"
      ]
     },
     "metadata": {},
     "output_type": "display_data"
    }
   ],
   "source": [
    "np.random.seed(1)\n",
    "x = 10 * np.random.rand(50)\n",
    "y = 2 * x + np.random.randn(50)\n",
    "plt.scatter(x, y)"
   ]
  },
  {
   "cell_type": "markdown",
   "id": "b411d45b",
   "metadata": {},
   "source": [
    "### 1. Выбираем класс модели"
   ]
  },
  {
   "cell_type": "code",
   "execution_count": 12,
   "id": "953da423",
   "metadata": {},
   "outputs": [],
   "source": [
    "from sklearn.linear_model import LinearRegression"
   ]
  },
  {
   "cell_type": "markdown",
   "id": "efaee527",
   "metadata": {},
   "source": [
    "### 2. Устанавливаем гиперпараметры модели"
   ]
  },
  {
   "cell_type": "code",
   "execution_count": 35,
   "id": "e618549d",
   "metadata": {},
   "outputs": [],
   "source": [
    "model = LinearRegression()"
   ]
  },
  {
   "cell_type": "markdown",
   "id": "c6ca1e4c",
   "metadata": {},
   "source": [
    "### 3. Создаём матрицу признаков и целевой массив"
   ]
  },
  {
   "cell_type": "code",
   "execution_count": 36,
   "id": "0733a9f6",
   "metadata": {},
   "outputs": [
    {
     "name": "stdout",
     "output_type": "stream",
     "text": [
      "(50,)\n",
      "(50,)\n"
     ]
    }
   ],
   "source": [
    "print(x.shape)\n",
    "print(y.shape)\n",
    "\n",
    "X = x[:, np.newaxis]"
   ]
  },
  {
   "cell_type": "markdown",
   "id": "b7e6e2c0",
   "metadata": {},
   "source": [
    "### 4. Обучение модели fit()"
   ]
  },
  {
   "cell_type": "code",
   "execution_count": 37,
   "id": "3ee98fb3",
   "metadata": {},
   "outputs": [
    {
     "name": "stdout",
     "output_type": "stream",
     "text": [
      "2.027208810360695\n",
      "0.0014229144467972077\n"
     ]
    }
   ],
   "source": [
    "model.fit(X, y)\n",
    "print(model.coef_[0])\n",
    "print(model.intercept_)"
   ]
  },
  {
   "cell_type": "code",
   "execution_count": 39,
   "id": "7e13a154",
   "metadata": {},
   "outputs": [
    {
     "data": {
      "text/plain": [
       "[<matplotlib.lines.Line2D at 0x1f672fff500>]"
      ]
     },
     "execution_count": 39,
     "metadata": {},
     "output_type": "execute_result"
    },
    {
     "data": {
      "image/png": "[encoded data removed]",
      "text/plain": [
       "<Figure size 640x480 with 1 Axes>"
      ]
     },
     "metadata": {},
     "output_type": "display_data"
    }
   ],
   "source": [
    "x_ = np.linspace(0, 10, 30)\n",
    "y_ = model.coef_[0] * x_ + model.intercept_\n",
    "plt.scatter(x, y)\n",
    "plt.plot(x_, y_)"
   ]
  },
  {
   "cell_type": "markdown",
   "id": "712e0c35",
   "metadata": {},
   "source": [
    "### 5. Применить модель к новым данным"
   ]
  },
  {
   "cell_type": "code",
   "execution_count": 42,
   "id": "67c8603f",
   "metadata": {},
   "outputs": [
    {
     "data": {
      "text/plain": [
       "<matplotlib.collections.PathCollection at 0x1f672f9d010>"
      ]
     },
     "execution_count": 42,
     "metadata": {},
     "output_type": "execute_result"
    },
    {
     "data": {
      "image/png": "[encoded data removed]",
      "text/plain": [
       "<Figure size 640x480 with 1 Axes>"
      ]
     },
     "metadata": {},
     "output_type": "display_data"
    }
   ],
   "source": [
    "xfit = np.linspace(0, 10, 5)\n",
    "yfit = model.predict(xfit[:, np.newaxis])\n",
    "plt.scatter(x, y)\n",
    "plt.plot(x_, y_)\n",
    "plt.scatter(xfit, yfit)"
   ]
  }
 ],
 "metadata": {
  "kernelspec": {
   "display_name": "base",
   "language": "python",
   "name": "python3"
  },
  "language_info": {
   "codemirror_mode": {
    "name": "ipython",
    "version": 3
   },
   "file_extension": ".py",
   "mimetype": "text/x-python",
   "name": "python",
   "nbconvert_exporter": "python",
   "pygments_lexer": "ipython3",
   "version": "3.12.4"
  }
 },
 "nbformat": 4,
 "nbformat_minor": 5
}
