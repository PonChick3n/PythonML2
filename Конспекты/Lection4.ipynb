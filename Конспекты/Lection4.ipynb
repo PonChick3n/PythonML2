{
 "cells": [
  {
   "cell_type": "markdown",
   "metadata": {},
   "source": [
    "# Лекция 4"
   ]
  },
  {
   "cell_type": "code",
   "execution_count": 9,
   "metadata": {},
   "outputs": [],
   "source": [
    "import numpy as np\n",
    "import pandas as pd"
   ]
  },
  {
   "cell_type": "markdown",
   "metadata": {},
   "source": [
    "## Если размерность данных > 2, то используют иерархическую индексацию (мультииндекс). В один индекс включается несколько уровней."
   ]
  },
  {
   "cell_type": "code",
   "execution_count": 4,
   "metadata": {},
   "outputs": [
    {
     "name": "stdout",
     "output_type": "stream",
     "text": [
      "(city_1, 2010)    101\n",
      "(city_1, 2020)    201\n",
      "(city_2, 2010)    102\n",
      "(city_2, 2020)    202\n",
      "(city_3, 2010)    103\n",
      "(city_3, 2020)    203\n",
      "dtype: int64\n",
      "(city_1, 2020)    201\n",
      "(city_2, 2020)    202\n",
      "(city_3, 2020)    203\n",
      "dtype: int64\n"
     ]
    }
   ],
   "source": [
    "index = [\n",
    "    ('city_1', 2010),\n",
    "    ('city_1', 2020),\n",
    "    ('city_2', 2010),\n",
    "    ('city_2', 2020),\n",
    "    ('city_3', 2010),\n",
    "    ('city_3', 2020),\n",
    "]\n",
    "\n",
    "population = [\n",
    "    101,\n",
    "    201,\n",
    "    102,\n",
    "    202,\n",
    "    103,\n",
    "    203\n",
    "]\n",
    "\n",
    "pop = pd.Series(population, index = index)\n",
    "print(pop)\n",
    "print(pop[[i for i in pop.index if i[1] == 2020]])"
   ]
  },
  {
   "cell_type": "markdown",
   "metadata": {},
   "source": [
    "### MultiIndex"
   ]
  },
  {
   "cell_type": "code",
   "execution_count": 6,
   "metadata": {},
   "outputs": [
    {
     "name": "stdout",
     "output_type": "stream",
     "text": [
      "city_1  2010    101\n",
      "        2020    201\n",
      "city_2  2010    102\n",
      "        2020    202\n",
      "city_3  2010    103\n",
      "        2020    203\n",
      "dtype: int64\n",
      "city_1    201\n",
      "city_2    202\n",
      "city_3    203\n",
      "dtype: int64\n"
     ]
    }
   ],
   "source": [
    "index = pd.MultiIndex.from_tuples(index)\n",
    "pop = pop.reindex(index)\n",
    "\n",
    "print(pop)\n",
    "print(pop[:, 2020])"
   ]
  },
  {
   "cell_type": "code",
   "execution_count": 7,
   "metadata": {},
   "outputs": [
    {
     "name": "stdout",
     "output_type": "stream",
     "text": [
      "        2010  2020\n",
      "city_1   101   201\n",
      "city_2   102   202\n",
      "city_3   103   203\n"
     ]
    }
   ],
   "source": [
    "pop_df = pop.unstack()\n",
    "print(pop_df)"
   ]
  },
  {
   "cell_type": "code",
   "execution_count": 8,
   "metadata": {},
   "outputs": [
    {
     "name": "stdout",
     "output_type": "stream",
     "text": [
      "city_1  2010    101\n",
      "        2020    201\n",
      "city_2  2010    102\n",
      "        2020    202\n",
      "city_3  2010    103\n",
      "        2020    203\n",
      "dtype: int64\n"
     ]
    }
   ],
   "source": [
    "print(pop_df.stack())"
   ]
  },
  {
   "cell_type": "code",
   "execution_count": 13,
   "metadata": {},
   "outputs": [
    {
     "name": "stdout",
     "output_type": "stream",
     "text": [
      "(city_1, 2010, 1)     101\n",
      "(city_1, 2010, 2)    1010\n",
      "(city_1, 2020, 1)     201\n",
      "(city_1, 2020, 2)    2010\n",
      "(city_2, 2010, 1)     102\n",
      "(city_2, 2010, 2)    1020\n",
      "(city_2, 2020, 1)     202\n",
      "(city_2, 2020, 2)    2020\n",
      "(city_3, 2010, 1)     103\n",
      "(city_3, 2010, 2)    1030\n",
      "(city_3, 2020, 1)     203\n",
      "(city_3, 2020, 2)    2030\n",
      "dtype: int64\n"
     ]
    }
   ],
   "source": [
    "index = [\n",
    "    ('city_1', 2010, 1),\n",
    "    ('city_1', 2010, 2),\n",
    "\n",
    "    ('city_1', 2020, 1),\n",
    "    ('city_1', 2020, 2),\n",
    "\n",
    "    ('city_2', 2010, 1),\n",
    "    ('city_2', 2010, 2),\n",
    "\n",
    "    ('city_2', 2020, 1),\n",
    "    ('city_2', 2020, 2),\n",
    "\n",
    "    ('city_3', 2010, 1),\n",
    "    ('city_3', 2010, 2),\n",
    "\n",
    "    ('city_3', 2020, 1),\n",
    "    ('city_3', 2020, 2)\n",
    "]\n",
    "\n",
    "population = [\n",
    "    101,\n",
    "    1010,\n",
    "    201,\n",
    "    2010,\n",
    "    102,\n",
    "    1020,\n",
    "    202,\n",
    "    2020,\n",
    "    103,\n",
    "    1030,\n",
    "    203,\n",
    "    2030\n",
    "]\n",
    "\n",
    "pop = pd.Series(population, index = index)\n",
    "print(pop)"
   ]
  },
  {
   "cell_type": "code",
   "execution_count": 17,
   "metadata": {},
   "outputs": [
    {
     "name": "stdout",
     "output_type": "stream",
     "text": [
      "city_1  2010  1     101\n",
      "              2    1010\n",
      "        2020  1     201\n",
      "              2    2010\n",
      "city_2  2010  1     102\n",
      "              2    1020\n",
      "        2020  1     202\n",
      "              2    2020\n",
      "city_3  2010  1     103\n",
      "              2    1030\n",
      "        2020  1     203\n",
      "              2    2030\n",
      "dtype: int64\n",
      "city_1  1     101\n",
      "        2    1010\n",
      "city_2  1     102\n",
      "        2    1020\n",
      "city_3  1     103\n",
      "        2    1030\n",
      "dtype: int64\n",
      "city_1  2010    1010\n",
      "        2020    2010\n",
      "city_2  2010    1020\n",
      "        2020    2020\n",
      "city_3  2010    1030\n",
      "        2020    2030\n",
      "dtype: int64\n"
     ]
    }
   ],
   "source": [
    "index = pd.MultiIndex.from_tuples(index)\n",
    "pop = pop.reindex(index)\n",
    "print(pop)\n",
    "print(pop[:, 2010])\n",
    "print(pop[:, :, 2])"
   ]
  },
  {
   "cell_type": "code",
   "execution_count": 19,
   "metadata": {},
   "outputs": [
    {
     "name": "stdout",
     "output_type": "stream",
     "text": [
      "               1     2\n",
      "city_1 2010  101  1010\n",
      "       2020  201  2010\n",
      "city_2 2010  102  1020\n",
      "       2020  202  2020\n",
      "city_3 2010  103  1030\n",
      "       2020  203  2030\n"
     ]
    }
   ],
   "source": [
    "pop_df = pop.unstack()\n",
    "print(pop_df)"
   ]
  },
  {
   "cell_type": "code",
   "execution_count": 20,
   "metadata": {},
   "outputs": [
    {
     "name": "stdout",
     "output_type": "stream",
     "text": [
      "city_1  2010  1     101\n",
      "              2    1010\n",
      "        2020  1     201\n",
      "              2    2010\n",
      "city_2  2010  1     102\n",
      "              2    1020\n",
      "        2020  1     202\n",
      "              2    2020\n",
      "city_3  2010  1     103\n",
      "              2    1030\n",
      "        2020  1     203\n",
      "              2    2030\n",
      "dtype: int64\n"
     ]
    }
   ],
   "source": [
    "print(pop_df.stack())"
   ]
  },
  {
   "cell_type": "code",
   "execution_count": 26,
   "metadata": {},
   "outputs": [
    {
     "name": "stdout",
     "output_type": "stream",
     "text": [
      "               total  something\n",
      "city_1 2010 1    101         10\n",
      "            2   1010         11\n",
      "       2020 1    201         12\n",
      "            2   2010         13\n",
      "city_2 2010 1    102         14\n",
      "            2   1020         15\n",
      "       2020 1    202         16\n",
      "            2   2020         17\n",
      "city_3 2010 1    103         18\n",
      "            2   1030         19\n",
      "       2020 1    203         20\n",
      "            2   2030         21\n",
      "city_1  2010  1    10\n",
      "              2    11\n",
      "        2020  1    12\n",
      "              2    13\n",
      "city_2  2010  1    14\n",
      "              2    15\n",
      "        2020  1    16\n",
      "              2    17\n",
      "city_3  2010  1    18\n",
      "              2    19\n",
      "        2020  1    20\n",
      "              2    21\n",
      "Name: something, dtype: int64\n"
     ]
    }
   ],
   "source": [
    "pop_df = pd.DataFrame(\n",
    "    {\n",
    "        \"total\": pop,\n",
    "        \"something\": [\n",
    "            10,\n",
    "            11,\n",
    "            12,\n",
    "            13,\n",
    "            14,\n",
    "            15,\n",
    "            16,\n",
    "            17,\n",
    "            18,\n",
    "            19,\n",
    "            20,\n",
    "            21\n",
    "        ]   \n",
    "    }\n",
    ")\n",
    "\n",
    "print(pop_df)\n",
    "print(pop_df[\"something\"])"
   ]
  },
  {
   "cell_type": "code",
   "execution_count": 28,
   "metadata": {},
   "outputs": [
    {
     "name": "stdout",
     "output_type": "stream",
     "text": [
      "2010  1    10\n",
      "      2    11\n",
      "2020  1    12\n",
      "      2    13\n",
      "Name: something, dtype: int64\n"
     ]
    }
   ],
   "source": [
    "pop_df_1 = pop_df.loc[\"city_1\", \"something\"]\n",
    "print(pop_df_1)"
   ]
  },
  {
   "cell_type": "markdown",
   "metadata": {},
   "source": [
    "### Как можно создавать мультииндексы:\n",
    "### - список массивов, задающих значение индекса на каждом уровне\n",
    "### - список кортежей, задающих значение индекса в каждой точке\n",
    "### - декартово произведение обычных индексов\n",
    "### - описание внутреннего представления: levels, codes"
   ]
  },
  {
   "cell_type": "code",
   "execution_count": 29,
   "metadata": {},
   "outputs": [
    {
     "name": "stdout",
     "output_type": "stream",
     "text": [
      "MultiIndex([('a', 1),\n",
      "            ('a', 2),\n",
      "            ('b', 1),\n",
      "            ('b', 2)],\n",
      "           )\n"
     ]
    }
   ],
   "source": [
    "i1 = pd.MultiIndex.from_arrays(\n",
    "    [\n",
    "        ['a', 'a', 'b', 'b'],\n",
    "        [1, 2, 1, 2]\n",
    "    ]\n",
    ")\n",
    "print(i1)"
   ]
  },
  {
   "cell_type": "code",
   "execution_count": 31,
   "metadata": {},
   "outputs": [
    {
     "name": "stdout",
     "output_type": "stream",
     "text": [
      "MultiIndex([('a', 1),\n",
      "            ('a', 2),\n",
      "            ('b', 1),\n",
      "            ('b', 2)],\n",
      "           )\n"
     ]
    }
   ],
   "source": [
    "i2 = pd.MultiIndex.from_tuples(\n",
    "    [\n",
    "        ('a', 1),\n",
    "        ('a', 2),\n",
    "        ('b', 1),\n",
    "        ('b', 2),\n",
    "    ]\n",
    ")\n",
    "print(i2)"
   ]
  },
  {
   "cell_type": "code",
   "execution_count": 33,
   "metadata": {},
   "outputs": [
    {
     "name": "stdout",
     "output_type": "stream",
     "text": [
      "MultiIndex([('a', 1),\n",
      "            ('a', 2),\n",
      "            ('b', 1),\n",
      "            ('b', 2)],\n",
      "           )\n"
     ]
    }
   ],
   "source": [
    "i3 = pd.MultiIndex.from_product(\n",
    "    [\n",
    "        ['a', 'b'],\n",
    "        [1, 2]\n",
    "    ]\n",
    ")\n",
    "print(i3)"
   ]
  },
  {
   "cell_type": "code",
   "execution_count": 35,
   "metadata": {},
   "outputs": [
    {
     "name": "stdout",
     "output_type": "stream",
     "text": [
      "MultiIndex([('a', 1),\n",
      "            ('a', 2),\n",
      "            ('b', 1),\n",
      "            ('b', 2),\n",
      "            ('c', 1),\n",
      "            ('c', 2)],\n",
      "           )\n"
     ]
    }
   ],
   "source": [
    "i4 = pd.MultiIndex(\n",
    "    levels = [\n",
    "        ['a', 'b', 'c'],\n",
    "        [1, 2]\n",
    "    ],\n",
    "    codes = [\n",
    "        [0, 0, 1, 1, 2, 2], # a a b b c c\n",
    "        [0, 1, 0, 1, 0, 1]  # 1 2 1 2 1 2\n",
    "    ]\n",
    ")\n",
    "print(i4)"
   ]
  },
  {
   "cell_type": "markdown",
   "metadata": {},
   "source": [
    "### Уровням можно задавать названия."
   ]
  },
  {
   "cell_type": "code",
   "execution_count": 36,
   "metadata": {},
   "outputs": [
    {
     "name": "stdout",
     "output_type": "stream",
     "text": [
      "city_1  2010     100\n",
      "        2020     200\n",
      "city_2  2010    1001\n",
      "        2020    2001\n",
      "dtype: int64\n"
     ]
    }
   ],
   "source": [
    "data = {\n",
    "    ('city_1', 2010): 100,\n",
    "    ('city_1', 2020): 200,\n",
    "    ('city_2', 2010): 1001,\n",
    "    ('city_2', 2020): 2001,\n",
    "}\n",
    "\n",
    "s = pd.Series(data)\n",
    "print(s)"
   ]
  },
  {
   "cell_type": "code",
   "execution_count": 38,
   "metadata": {},
   "outputs": [
    {
     "name": "stdout",
     "output_type": "stream",
     "text": [
      "city    year\n",
      "city_1  2010     100\n",
      "        2020     200\n",
      "city_2  2010    1001\n",
      "        2020    2001\n",
      "dtype: int64\n"
     ]
    }
   ],
   "source": [
    "s.index.names = [\"city\", \"year\"]\n",
    "print(s)"
   ]
  },
  {
   "cell_type": "code",
   "execution_count": 40,
   "metadata": {},
   "outputs": [
    {
     "name": "stdout",
     "output_type": "stream",
     "text": [
      "worker       person_1            person_2            person_3          \n",
      "job             job_1     job_2     job_1     job_2     job_1     job_2\n",
      "city   year                                                            \n",
      "city_1 2010  0.511822  0.950464  0.144160  0.948649  0.311831  0.423326\n",
      "       2020  0.827703  0.409199  0.549594  0.027559  0.753513  0.538143\n",
      "city_2 2010  0.329732  0.788429  0.303195  0.453498  0.134042  0.403113\n",
      "       2020  0.203455  0.262313  0.750365  0.280409  0.485191  0.980737\n"
     ]
    }
   ],
   "source": [
    "index = pd.MultiIndex.from_product(\n",
    "    [\n",
    "        [\"city_1\", \"city_2\"],\n",
    "        [\"2010\", \"2020\"]\n",
    "    ],\n",
    "    names=[\"city\", \"year\"]\n",
    ")\n",
    "\n",
    "columns = pd.MultiIndex.from_product(\n",
    "    [\n",
    "        [\"person_1\", \"person_2\", \"person_3\"],\n",
    "        [\"job_1\", \"job_2\"]\n",
    "    ],\n",
    "    names=[\"worker\", \"job\"]\n",
    ")\n",
    "\n",
    "rng = np.random.default_rng(1)\n",
    "data = rng.random((4, 6))\n",
    "\n",
    "data_df = pd.DataFrame(data, index=index, columns=columns)\n",
    "print(data_df)"
   ]
  },
  {
   "cell_type": "markdown",
   "metadata": {},
   "source": [
    "### Индексация и срезы (по мультииндексу)"
   ]
  },
  {
   "cell_type": "code",
   "execution_count": 46,
   "metadata": {},
   "outputs": [
    {
     "name": "stdout",
     "output_type": "stream",
     "text": [
      "100\n",
      "year\n",
      "2010    100\n",
      "2020    200\n",
      "dtype: int64\n",
      "city    year\n",
      "city_1  2010     100\n",
      "        2020     200\n",
      "city_2  2010    1001\n",
      "        2020    2001\n",
      "dtype: int64\n",
      "city    year\n",
      "city_2  2020     2001\n",
      "city_3  2010    10001\n",
      "        2020    20001\n",
      "dtype: int64\n",
      "city    year\n",
      "city_1  2010      100\n",
      "        2020      200\n",
      "city_3  2010    10001\n",
      "        2020    20001\n",
      "dtype: int64\n"
     ]
    }
   ],
   "source": [
    "data = {\n",
    "    ('city_1', 2010): 100,\n",
    "    ('city_1', 2020): 200,\n",
    "    ('city_2', 2010): 1001,\n",
    "    ('city_2', 2020): 2001,\n",
    "    ('city_3', 2010): 10001,\n",
    "    ('city_3', 2020): 20001,\n",
    "}\n",
    "\n",
    "s = pd.Series(data)\n",
    "s.index.names = [\"city\", \"year\"]\n",
    "\n",
    "print(s[\"city_1\", 2010])\n",
    "print(s[\"city_1\"])\n",
    "print(s.loc[\"city_1\":\"city_2\"])\n",
    "print(s[s > 2000])\n",
    "print(s[[\"city_1\", \"city_3\"]])"
   ]
  },
  {
   "cell_type": "markdown",
   "metadata": {},
   "source": [
    "### Перегруппировка мультииндексов"
   ]
  },
  {
   "cell_type": "code",
   "execution_count": 50,
   "metadata": {},
   "outputs": [
    {
     "name": "stdout",
     "output_type": "stream",
     "text": [
      "a  1    0.511822\n",
      "   2    0.950464\n",
      "c  1    0.144160\n",
      "   2    0.948649\n",
      "b  1    0.311831\n",
      "   2    0.423326\n",
      "dtype: float64\n",
      "a  1    0.511822\n",
      "   2    0.950464\n",
      "b  1    0.311831\n",
      "   2    0.423326\n",
      "dtype: float64\n"
     ]
    }
   ],
   "source": [
    "index = pd.MultiIndex.from_product(\n",
    "    [\n",
    "        ['a', 'c', 'b'],\n",
    "        [1, 2]\n",
    "    ]\n",
    ")\n",
    "\n",
    "rng = np.random.default_rng(1)\n",
    "data = pd.Series(rng.random(6), index = index)\n",
    "print(data)\n",
    "# print(data['a':'b'])\n",
    "data = data.sort_index()\n",
    "print(data['a':'b'])"
   ]
  },
  {
   "cell_type": "code",
   "execution_count": 54,
   "metadata": {},
   "outputs": [
    {
     "name": "stdout",
     "output_type": "stream",
     "text": [
      "               1     2\n",
      "city_1 2010  101  1010\n",
      "       2020  201  2010\n",
      "city_2 2010  102  1020\n",
      "       2020  202  2020\n",
      "city_3 2010  103  1030\n",
      "       2020  203  2030\n",
      "        city_1  city_2  city_3\n",
      "2010 1     101     102     103\n",
      "     2    1010    1020    1030\n",
      "2020 1     201     202     203\n",
      "     2    2010    2020    2030\n",
      "          2010  2020\n",
      "city_1 1   101   201\n",
      "       2  1010  2010\n",
      "city_2 1   102   202\n",
      "       2  1020  2020\n",
      "city_3 1   103   203\n",
      "       2  1030  2030\n",
      "               1     2\n",
      "city_1 2010  101  1010\n",
      "       2020  201  2010\n",
      "city_2 2010  102  1020\n",
      "       2020  202  2020\n",
      "city_3 2010  103  1030\n",
      "       2020  203  2030\n"
     ]
    }
   ],
   "source": [
    "index = [\n",
    "    ('city_1', 2010, 1),\n",
    "    ('city_1', 2010, 2),\n",
    "\n",
    "    ('city_1', 2020, 1),\n",
    "    ('city_1', 2020, 2),\n",
    "\n",
    "    ('city_2', 2010, 1),\n",
    "    ('city_2', 2010, 2),\n",
    "\n",
    "    ('city_2', 2020, 1),\n",
    "    ('city_2', 2020, 2),\n",
    "\n",
    "    ('city_3', 2010, 1),\n",
    "    ('city_3', 2010, 2),\n",
    "\n",
    "    ('city_3', 2020, 1),\n",
    "    ('city_3', 2020, 2)\n",
    "]\n",
    "\n",
    "population = [\n",
    "    101,\n",
    "    1010,\n",
    "    201,\n",
    "    2010,\n",
    "    102,\n",
    "    1020,\n",
    "    202,\n",
    "    2020,\n",
    "    103,\n",
    "    1030,\n",
    "    203,\n",
    "    2030\n",
    "]\n",
    "\n",
    "pop = pd.Series(population, index=index)\n",
    "i = pd.MultiIndex.from_tuples(index)\n",
    "pop = pop.reindex(i)\n",
    "\n",
    "print(pop.unstack())\n",
    "print(pop.unstack(level=0))\n",
    "print(pop.unstack(level=1))\n",
    "print(pop.unstack(level=2))"
   ]
  },
  {
   "cell_type": "markdown",
   "metadata": {},
   "source": [
    "## NumPy конкатенация"
   ]
  },
  {
   "cell_type": "code",
   "execution_count": 56,
   "metadata": {},
   "outputs": [
    {
     "name": "stdout",
     "output_type": "stream",
     "text": [
      "[1 2 3 4 5 6 7 8 9]\n"
     ]
    }
   ],
   "source": [
    "x = [1, 2, 3]\n",
    "y = [4, 5, 6]\n",
    "z = [7, 8, 9]\n",
    "\n",
    "print(np.concatenate([x, y, z]))"
   ]
  },
  {
   "cell_type": "code",
   "execution_count": 59,
   "metadata": {},
   "outputs": [
    {
     "name": "stdout",
     "output_type": "stream",
     "text": [
      "[[1 2 3]\n",
      " [4 5 6]\n",
      " [7 8 9]]\n",
      "[[1 2 3]\n",
      " [4 5 6]\n",
      " [7 8 9]]\n",
      "[[1 2 3 4 5 6 7 8 9]]\n"
     ]
    }
   ],
   "source": [
    "x = [[1, 2, 3]]\n",
    "y = [[4, 5, 6]]\n",
    "z = [[7, 8, 9]]\n",
    "\n",
    "print(np.concatenate([x, y, z]))\n",
    "print(np.concatenate([x, y, z], axis=0))\n",
    "print(np.concatenate([x, y, z], axis=1))"
   ]
  },
  {
   "cell_type": "markdown",
   "metadata": {},
   "source": [
    "## Pandas - concat"
   ]
  },
  {
   "cell_type": "code",
   "execution_count": 60,
   "metadata": {},
   "outputs": [
    {
     "name": "stdout",
     "output_type": "stream",
     "text": [
      "1    a\n",
      "2    b\n",
      "3    c\n",
      "4    d\n",
      "5    e\n",
      "6    f\n",
      "dtype: object\n"
     ]
    }
   ],
   "source": [
    "ser1 = pd.Series(['a', 'b', 'c'], index=[1, 2, 3])\n",
    "ser2 = pd.Series(['d', 'e', 'f'], index=[4, 5, 6])\n",
    "\n",
    "print(pd.concat([ser1, ser2]))"
   ]
  },
  {
   "cell_type": "code",
   "execution_count": 64,
   "metadata": {},
   "outputs": [
    {
     "name": "stdout",
     "output_type": "stream",
     "text": [
      "1    a\n",
      "2    b\n",
      "3    c\n",
      "1    d\n",
      "2    e\n",
      "6    f\n",
      "dtype: object\n",
      "0    a\n",
      "1    b\n",
      "2    c\n",
      "3    d\n",
      "4    e\n",
      "5    f\n",
      "dtype: object\n",
      "x  1    a\n",
      "   2    b\n",
      "   3    c\n",
      "y  1    d\n",
      "   2    e\n",
      "   6    f\n",
      "dtype: object\n"
     ]
    }
   ],
   "source": [
    "ser1 = pd.Series(['a', 'b', 'c'], index=[1, 2, 3])\n",
    "ser2 = pd.Series(['d', 'e', 'f'], index=[1, 2, 6])\n",
    "\n",
    "print(pd.concat([ser1, ser2], verify_integrity=False))\n",
    "print(pd.concat([ser1, ser2], ignore_index=True))\n",
    "print(pd.concat([ser1, ser2], keys=['x', 'y']))"
   ]
  },
  {
   "cell_type": "code",
   "execution_count": 66,
   "metadata": {},
   "outputs": [
    {
     "name": "stdout",
     "output_type": "stream",
     "text": [
      "1    a\n",
      "2    b\n",
      "3    c\n",
      "4    b\n",
      "5    c\n",
      "6    f\n",
      "dtype: object\n",
      "1    a\n",
      "2    b\n",
      "3    c\n",
      "4    b\n",
      "5    c\n",
      "6    f\n",
      "dtype: object\n"
     ]
    }
   ],
   "source": [
    "ser1 = pd.Series(['a', 'b', 'c'], index=[1, 2, 3])\n",
    "ser2 = pd.Series(['b', 'c', 'f'], index=[4, 5, 6])\n",
    "\n",
    "print(pd.concat([ser1, ser2], join=\"outer\"))\n",
    "print(pd.concat([ser1, ser2], join=\"inner\"))"
   ]
  }
 ],
 "metadata": {
  "kernelspec": {
   "display_name": "base",
   "language": "python",
   "name": "python3"
  },
  "language_info": {
   "codemirror_mode": {
    "name": "ipython",
    "version": 3
   },
   "file_extension": ".py",
   "mimetype": "text/x-python",
   "name": "python",
   "nbconvert_exporter": "python",
   "pygments_lexer": "ipython3",
   "version": "3.12.4"
  }
 },
 "nbformat": 4,
 "nbformat_minor": 2
}
