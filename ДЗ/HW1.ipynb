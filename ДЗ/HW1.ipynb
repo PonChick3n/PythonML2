{
 "cells": [
  {
   "cell_type": "markdown",
   "metadata": {},
   "source": [
    "# Домашнее задание 1"
   ]
  },
  {
   "cell_type": "markdown",
   "metadata": {},
   "source": [
    "## 1. Какие ещё существуют коды типов?"
   ]
  },
  {
   "cell_type": "markdown",
   "metadata": {},
   "source": [
    "#### Помимо i (I) - знаковый (беззнаковый) int, в библиотеке array существуют ещё такие коды типов, как: b (B) - знаковый (беззнаковый) char, h (H) - знаковый (беззнаковый) short, l (L) - знаковый (беззнаковый) long, q (Q) - знаковый (беззнаковый) long long, f - float, d - double, u - Unicode char."
   ]
  },
  {
   "cell_type": "markdown",
   "metadata": {},
   "source": [
    "## 2. Напишите код, подобный приведенному выше, но с другим типом"
   ]
  },
  {
   "cell_type": "code",
   "execution_count": 8,
   "metadata": {},
   "outputs": [
    {
     "name": "stdout",
     "output_type": "stream",
     "text": [
      "86\n",
      "<class 'array.array'>\n"
     ]
    }
   ],
   "source": [
    "import array\n",
    "import sys\n",
    "\n",
    "a1 = array.array('u', ['a', 'b', 'c'])\n",
    "print(sys.getsizeof(a1))\n",
    "print(type(a1))"
   ]
  },
  {
   "cell_type": "markdown",
   "metadata": {},
   "source": [
    "## 3. Напишите код для создания массива с 5 значениями, располагающимися через равные интервалы в диапазоне от 0 до 1"
   ]
  },
  {
   "cell_type": "code",
   "execution_count": 45,
   "metadata": {},
   "outputs": [
    {
     "name": "stdout",
     "output_type": "stream",
     "text": [
      "[0.   0.25 0.5  0.75 1.  ]\n"
     ]
    }
   ],
   "source": [
    "import numpy as np\n",
    "\n",
    "a = np.linspace(0, 1, 5)\n",
    "print(a)"
   ]
  },
  {
   "cell_type": "markdown",
   "metadata": {},
   "source": [
    "## 4. Напишите код для создания массива с 5 равномерно распределенными случайными значениями в диапазоне от 0 до 1"
   ]
  },
  {
   "cell_type": "code",
   "execution_count": 24,
   "metadata": {},
   "outputs": [
    {
     "name": "stdout",
     "output_type": "stream",
     "text": [
      "[0.67046751 0.4173048  0.55868983 0.14038694 0.19810149]\n"
     ]
    }
   ],
   "source": [
    "a = np.random.uniform(0, 1, 5)\n",
    "print(a)"
   ]
  },
  {
   "cell_type": "markdown",
   "metadata": {},
   "source": [
    "## 5. Напишите код для создания массива с 5 нормально распределенными случайными значениями с мат. ожиданием = 0 и дисперсией 1"
   ]
  },
  {
   "cell_type": "code",
   "execution_count": 50,
   "metadata": {},
   "outputs": [
    {
     "name": "stdout",
     "output_type": "stream",
     "text": [
      "[0.53825057 1.52826025 1.95667685 0.47820035 0.11934521]\n"
     ]
    }
   ],
   "source": [
    "a = np.random.normal(0, 1, 5)\n",
    "print(a)"
   ]
  },
  {
   "cell_type": "markdown",
   "metadata": {},
   "source": [
    "## 6. Напишите код для создания массива с 5 случайнвми целыми числами в от [0, 10)"
   ]
  },
  {
   "cell_type": "code",
   "execution_count": 46,
   "metadata": {},
   "outputs": [
    {
     "name": "stdout",
     "output_type": "stream",
     "text": [
      "[5 1 9 3 4]\n"
     ]
    }
   ],
   "source": [
    "a = np.random.randint(10, size=5)\n",
    "print(a)"
   ]
  },
  {
   "cell_type": "markdown",
   "metadata": {},
   "source": [
    "## 7. Написать код для создания срезов массива 3 на 4\n",
    "## - первые две строки и три столбца\n",
    "## - первые три строки и второй столбец\n",
    "## - все строки и столбцы в обратном порядке\n",
    "## - второй столбец\n",
    "## - третья строка"
   ]
  },
  {
   "cell_type": "code",
   "execution_count": 101,
   "metadata": {},
   "outputs": [
    {
     "name": "stdout",
     "output_type": "stream",
     "text": [
      "[[2 7 2 6]\n",
      " [0 9 2 6]\n",
      " [6 2 7 7]]\n"
     ]
    }
   ],
   "source": [
    "a = np.random.randint(10, size=(3, 4))\n",
    "print(a)"
   ]
  },
  {
   "cell_type": "code",
   "execution_count": 102,
   "metadata": {},
   "outputs": [
    {
     "name": "stdout",
     "output_type": "stream",
     "text": [
      "[[2 7 2]\n",
      " [0 9 2]]\n"
     ]
    }
   ],
   "source": [
    "print(a[:2, :3])"
   ]
  },
  {
   "cell_type": "code",
   "execution_count": 103,
   "metadata": {},
   "outputs": [
    {
     "name": "stdout",
     "output_type": "stream",
     "text": [
      "[7 9 2]\n"
     ]
    }
   ],
   "source": [
    "print(a[:3, 1])"
   ]
  },
  {
   "cell_type": "code",
   "execution_count": 104,
   "metadata": {},
   "outputs": [
    {
     "name": "stdout",
     "output_type": "stream",
     "text": [
      "[[7 7 2 6]\n",
      " [6 2 9 0]\n",
      " [6 2 7 2]]\n"
     ]
    }
   ],
   "source": [
    "print(a[::-1, ::-1])"
   ]
  },
  {
   "cell_type": "code",
   "execution_count": 105,
   "metadata": {},
   "outputs": [
    {
     "name": "stdout",
     "output_type": "stream",
     "text": [
      "[7 9 2]\n"
     ]
    }
   ],
   "source": [
    "print(a[:, 1])"
   ]
  },
  {
   "cell_type": "code",
   "execution_count": 106,
   "metadata": {},
   "outputs": [
    {
     "name": "stdout",
     "output_type": "stream",
     "text": [
      "[6 2 7 7]\n"
     ]
    }
   ],
   "source": [
    "print(a[2, :])"
   ]
  },
  {
   "cell_type": "markdown",
   "metadata": {},
   "source": [
    "## 8. Продемонстрируйте, как сделать срез-копию"
   ]
  },
  {
   "cell_type": "code",
   "execution_count": 107,
   "metadata": {},
   "outputs": [
    {
     "name": "stdout",
     "output_type": "stream",
     "text": [
      "[[100   7   2]\n",
      " [  0   9   2]]\n",
      "[[2 7 2]\n",
      " [0 9 2]]\n"
     ]
    }
   ],
   "source": [
    "b = a[:2, :3].copy()\n",
    "b[0, 0] = 100\n",
    "print(b)\n",
    "print(a[:2, :3])"
   ]
  },
  {
   "cell_type": "markdown",
   "metadata": {},
   "source": [
    "## 9. Продемонстрируйте использование newaxis для получения вектора-столбца и вектора-строки\n"
   ]
  },
  {
   "cell_type": "code",
   "execution_count": 108,
   "metadata": {},
   "outputs": [
    {
     "name": "stdout",
     "output_type": "stream",
     "text": [
      "[[1 2 3]]\n",
      "[[1]\n",
      " [2]\n",
      " [3]]\n"
     ]
    }
   ],
   "source": [
    "a = np.array([1, 2, 3])\n",
    "print(a[np.newaxis, :])\n",
    "print(a[:, np.newaxis])"
   ]
  },
  {
   "cell_type": "markdown",
   "metadata": {},
   "source": [
    "## 10. Разберитесь, как работает метод dstack"
   ]
  },
  {
   "cell_type": "code",
   "execution_count": 74,
   "metadata": {},
   "outputs": [
    {
     "name": "stdout",
     "output_type": "stream",
     "text": [
      "[[[1 4]\n",
      "  [2 5]\n",
      "  [3 6]]]\n"
     ]
    }
   ],
   "source": [
    "a = np.array([1, 2, 3])\n",
    "b = np.array([4, 5, 6])\n",
    "print(np.dstack([a, b]))"
   ]
  },
  {
   "cell_type": "markdown",
   "metadata": {},
   "source": [
    "## 11. Разберитесь, как работают методы split, vsplit, hsplit, dsplit"
   ]
  },
  {
   "cell_type": "code",
   "execution_count": 92,
   "metadata": {},
   "outputs": [
    {
     "name": "stdout",
     "output_type": "stream",
     "text": [
      "[array([[1, 2, 3]]), array([[4, 5, 6]]), array([[7, 8, 9]])]\n",
      "[array([[1, 2, 3]]), array([[4, 5, 6]]), array([[7, 8, 9]])]\n",
      "[array([[1],\n",
      "       [4],\n",
      "       [7]]), array([[2],\n",
      "       [5],\n",
      "       [8]]), array([[3],\n",
      "       [6],\n",
      "       [9]])]\n"
     ]
    }
   ],
   "source": [
    "a = np.array([[1, 2, 3], [4, 5, 6], [7, 8, 9]])\n",
    "print(np.split(a, 3))\n",
    "print(np.vsplit(a, 3))\n",
    "print(np.hsplit(a, 3))"
   ]
  },
  {
   "cell_type": "code",
   "execution_count": 93,
   "metadata": {},
   "outputs": [
    {
     "name": "stdout",
     "output_type": "stream",
     "text": [
      "[array([[[1],\n",
      "        [2],\n",
      "        [3]],\n",
      "\n",
      "       [[4],\n",
      "        [5],\n",
      "        [6]],\n",
      "\n",
      "       [[7],\n",
      "        [8],\n",
      "        [9]]]), array([[[1],\n",
      "        [2],\n",
      "        [3]],\n",
      "\n",
      "       [[4],\n",
      "        [5],\n",
      "        [6]],\n",
      "\n",
      "       [[7],\n",
      "        [8],\n",
      "        [9]]]), array([[[1],\n",
      "        [2],\n",
      "        [3]],\n",
      "\n",
      "       [[4],\n",
      "        [5],\n",
      "        [6]],\n",
      "\n",
      "       [[7],\n",
      "        [8],\n",
      "        [9]]])]\n"
     ]
    }
   ],
   "source": [
    "a = np.dstack([a, a, a])\n",
    "print(np.dsplit(a, 3))"
   ]
  },
  {
   "cell_type": "markdown",
   "metadata": {},
   "source": [
    "## 12. Привести пример использования всех универсальных функций, которые я привел"
   ]
  },
  {
   "cell_type": "code",
   "execution_count": 134,
   "metadata": {},
   "outputs": [
    {
     "name": "stdout",
     "output_type": "stream",
     "text": [
      "[[6 8 8]\n",
      " [9 2 7]\n",
      " [5 5 4]]\n"
     ]
    }
   ],
   "source": [
    "a = np.random.randint(10, size=(3, 3))\n",
    "print(a)"
   ]
  },
  {
   "cell_type": "code",
   "execution_count": 135,
   "metadata": {},
   "outputs": [
    {
     "name": "stdout",
     "output_type": "stream",
     "text": [
      "[[5 7 7]\n",
      " [8 1 6]\n",
      " [4 4 3]]\n"
     ]
    }
   ],
   "source": [
    "print(a - 1)"
   ]
  },
  {
   "cell_type": "code",
   "execution_count": 136,
   "metadata": {},
   "outputs": [
    {
     "name": "stdout",
     "output_type": "stream",
     "text": [
      "[[-6 -8 -8]\n",
      " [-9 -2 -7]\n",
      " [-5 -5 -4]]\n"
     ]
    }
   ],
   "source": [
    "print(-a)"
   ]
  },
  {
   "cell_type": "code",
   "execution_count": 137,
   "metadata": {},
   "outputs": [
    {
     "name": "stdout",
     "output_type": "stream",
     "text": [
      "[[3.  4.  4. ]\n",
      " [4.5 1.  3.5]\n",
      " [2.5 2.5 2. ]]\n"
     ]
    }
   ],
   "source": [
    "print(a / 2)"
   ]
  },
  {
   "cell_type": "code",
   "execution_count": 138,
   "metadata": {},
   "outputs": [
    {
     "name": "stdout",
     "output_type": "stream",
     "text": [
      "[[3 4 4]\n",
      " [4 1 3]\n",
      " [2 2 2]]\n"
     ]
    }
   ],
   "source": [
    "print(a // 2)"
   ]
  },
  {
   "cell_type": "code",
   "execution_count": 139,
   "metadata": {},
   "outputs": [
    {
     "name": "stdout",
     "output_type": "stream",
     "text": [
      "[[36 64 64]\n",
      " [81  4 49]\n",
      " [25 25 16]]\n"
     ]
    }
   ],
   "source": [
    "print(a ** 2)"
   ]
  },
  {
   "cell_type": "code",
   "execution_count": 140,
   "metadata": {},
   "outputs": [
    {
     "name": "stdout",
     "output_type": "stream",
     "text": [
      "[[0 0 0]\n",
      " [1 0 1]\n",
      " [1 1 0]]\n"
     ]
    }
   ],
   "source": [
    "print(a % 2)"
   ]
  },
  {
   "cell_type": "code",
   "execution_count": 141,
   "metadata": {},
   "outputs": [
    {
     "name": "stdout",
     "output_type": "stream",
     "text": [
      "[[6 8 8]\n",
      " [9 2 7]\n",
      " [5 5 4]]\n"
     ]
    }
   ],
   "source": [
    "print(np.abs(a))"
   ]
  },
  {
   "cell_type": "code",
   "execution_count": 142,
   "metadata": {},
   "outputs": [
    {
     "name": "stdout",
     "output_type": "stream",
     "text": [
      "[[-0.2794155   0.98935825  0.98935825]\n",
      " [ 0.41211849  0.90929743  0.6569866 ]\n",
      " [-0.95892427 -0.95892427 -0.7568025 ]]\n"
     ]
    }
   ],
   "source": [
    "print(np.sin(a))"
   ]
  },
  {
   "cell_type": "code",
   "execution_count": 143,
   "metadata": {},
   "outputs": [
    {
     "name": "stdout",
     "output_type": "stream",
     "text": [
      "[[ 0.96017029 -0.14550003 -0.14550003]\n",
      " [-0.91113026 -0.41614684  0.75390225]\n",
      " [ 0.28366219  0.28366219 -0.65364362]]\n"
     ]
    }
   ],
   "source": [
    "print(np.cos(a))"
   ]
  },
  {
   "cell_type": "code",
   "execution_count": 144,
   "metadata": {},
   "outputs": [
    {
     "name": "stdout",
     "output_type": "stream",
     "text": [
      "[[-0.29100619 -6.79971146 -6.79971146]\n",
      " [-0.45231566 -2.18503986  0.87144798]\n",
      " [-3.38051501 -3.38051501  1.15782128]]\n"
     ]
    }
   ],
   "source": [
    "print(np.tan(a))"
   ]
  },
  {
   "cell_type": "code",
   "execution_count": 145,
   "metadata": {},
   "outputs": [
    {
     "name": "stdout",
     "output_type": "stream",
     "text": [
      "[[4.03428793e+02 2.98095799e+03 2.98095799e+03]\n",
      " [8.10308393e+03 7.38905610e+00 1.09663316e+03]\n",
      " [1.48413159e+02 1.48413159e+02 5.45981500e+01]]\n"
     ]
    }
   ],
   "source": [
    "print(np.exp(a))"
   ]
  },
  {
   "cell_type": "code",
   "execution_count": 146,
   "metadata": {},
   "outputs": [
    {
     "name": "stdout",
     "output_type": "stream",
     "text": [
      "[[1.79175947 2.07944154 2.07944154]\n",
      " [2.19722458 0.69314718 1.94591015]\n",
      " [1.60943791 1.60943791 1.38629436]]\n"
     ]
    }
   ],
   "source": [
    "print(np.log(a))"
   ]
  }
 ],
 "metadata": {
  "kernelspec": {
   "display_name": "base",
   "language": "python",
   "name": "python3"
  },
  "language_info": {
   "codemirror_mode": {
    "name": "ipython",
    "version": 3
   },
   "file_extension": ".py",
   "mimetype": "text/x-python",
   "name": "python",
   "nbconvert_exporter": "python",
   "pygments_lexer": "ipython3",
   "version": "3.12.4"
  }
 },
 "nbformat": 4,
 "nbformat_minor": 2
}
